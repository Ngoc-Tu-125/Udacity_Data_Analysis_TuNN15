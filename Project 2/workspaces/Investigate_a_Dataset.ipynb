{
 "cells": [
  {
   "cell_type": "markdown",
   "metadata": {},
   "source": [
    "<a id='intro'></a>\n",
    "## Introduction\n",
    "\n",
    "### Dataset Description \n",
    "\n",
    "I choose TMDb movie data to analyze. It was chosen based on my preference for movies.\n",
    "\n",
    "This data set contains information about 10,000 movies collected from The Movie Database (TMDb), including information about:\n",
    "    + id\n",
    "    + imdb_id\n",
    "    + poplularity\n",
    "    + budget\n",
    "    + revenue\n",
    "    + original_title\n",
    "    + cast\n",
    "    + homepage\n",
    "    + director\n",
    "    + tagline\n",
    "    + keyworks\n",
    "    + overview\n",
    "    + runtime\n",
    "    + genres\n",
    "    + production_companies\n",
    "    + genres\n",
    "    + nies\n",
    "    + release_date\n",
    "    + vote_count\n",
    "    + vote_average\n",
    "    + release_year\n",
    "    + budget_adj\n",
    "    + revenue_adj\n",
    "\n",
    "### Question(s) for Analysis\n",
    "\n",
    "For the first question, I want to know what is the average length of movies.\n",
    "\n",
    "Second, What is the average budget for making films per year?\n",
    "\n",
    "Third, How many movies are made each year?\n",
    "\n",
    "And last, I am curious about the ratio between revenue and budget. What is the difference between revenue - budget? And how many movies have revenue - budget > budget? Does this ratio depend on the release_year or not?\n",
    "\n"
   ]
  },
  {
   "cell_type": "code",
   "execution_count": 29,
   "metadata": {},
   "outputs": [],
   "source": [
    "# Import neccessary libs\n",
    "import pandas as pd\n",
    "import matplotlib.pyplot as plt\n",
    "import numpy as np\n",
    "\n",
    "%matplotlib inline"
   ]
  },
  {
   "cell_type": "markdown",
   "metadata": {},
   "source": [
    "<a id='wrangling'></a>\n",
    "## Data Wrangling\n",
    "\n",
    "- Drop Extraneous Columns\n",
    "    With my questions I want to find answers, I will focus on some main columns: budget, revenue, release_year, genres.\n",
    "    \n",
    "    I will keep them and some more necessary pieces of information: id, imdb_id, original_title, cast, runtime, and production_companies.\n",
    "    \n",
    "- Drop Nulls\n",
    "- Drop any duplicate rows in both datasets\n",
    "- Check types of data\n",
    "- Clean data Os in revenue, budget, and runtime"
   ]
  },
  {
   "cell_type": "code",
   "execution_count": 30,
   "metadata": {},
   "outputs": [
    {
     "data": {
      "text/plain": [
       "(10866, 21)"
      ]
     },
     "execution_count": 30,
     "metadata": {},
     "output_type": "execute_result"
    }
   ],
   "source": [
    "# Load datasets\n",
    "movies_df = pd.read_csv('tmdb-movies.csv')\n",
    "# View dimensions of datasets\n",
    "movies_df.shape"
   ]
  },
  {
   "cell_type": "markdown",
   "metadata": {},
   "source": [
    "\n",
    "### Data Cleaning\n",
    " "
   ]
  },
  {
   "cell_type": "code",
   "execution_count": 31,
   "metadata": {
    "scrolled": true
   },
   "outputs": [
    {
     "data": {
      "text/html": [
       "<div>\n",
       "<style scoped>\n",
       "    .dataframe tbody tr th:only-of-type {\n",
       "        vertical-align: middle;\n",
       "    }\n",
       "\n",
       "    .dataframe tbody tr th {\n",
       "        vertical-align: top;\n",
       "    }\n",
       "\n",
       "    .dataframe thead th {\n",
       "        text-align: right;\n",
       "    }\n",
       "</style>\n",
       "<table border=\"1\" class=\"dataframe\">\n",
       "  <thead>\n",
       "    <tr style=\"text-align: right;\">\n",
       "      <th></th>\n",
       "      <th>id</th>\n",
       "      <th>imdb_id</th>\n",
       "      <th>budget</th>\n",
       "      <th>revenue</th>\n",
       "      <th>original_title</th>\n",
       "      <th>cast</th>\n",
       "      <th>runtime</th>\n",
       "      <th>genres</th>\n",
       "      <th>production_companies</th>\n",
       "      <th>release_year</th>\n",
       "    </tr>\n",
       "  </thead>\n",
       "  <tbody>\n",
       "    <tr>\n",
       "      <th>0</th>\n",
       "      <td>135397</td>\n",
       "      <td>tt0369610</td>\n",
       "      <td>150000000</td>\n",
       "      <td>1513528810</td>\n",
       "      <td>Jurassic World</td>\n",
       "      <td>Chris Pratt|Bryce Dallas Howard|Irrfan Khan|Vi...</td>\n",
       "      <td>124</td>\n",
       "      <td>Action|Adventure|Science Fiction|Thriller</td>\n",
       "      <td>Universal Studios|Amblin Entertainment|Legenda...</td>\n",
       "      <td>2015</td>\n",
       "    </tr>\n",
       "  </tbody>\n",
       "</table>\n",
       "</div>"
      ],
      "text/plain": [
       "       id    imdb_id     budget     revenue  original_title  \\\n",
       "0  135397  tt0369610  150000000  1513528810  Jurassic World   \n",
       "\n",
       "                                                cast  runtime  \\\n",
       "0  Chris Pratt|Bryce Dallas Howard|Irrfan Khan|Vi...      124   \n",
       "\n",
       "                                      genres  \\\n",
       "0  Action|Adventure|Science Fiction|Thriller   \n",
       "\n",
       "                                production_companies  release_year  \n",
       "0  Universal Studios|Amblin Entertainment|Legenda...          2015  "
      ]
     },
     "execution_count": 31,
     "metadata": {},
     "output_type": "execute_result"
    }
   ],
   "source": [
    "# Drop colums unnecessary\n",
    "redundant_cols = ['popularity', 'homepage', 'director', 'tagline', 'keywords', 'overview', 'release_date', 'vote_count', 'vote_average', 'budget_adj', 'revenue_adj']\n",
    "\n",
    "movies_df.drop(redundant_cols, axis=1, inplace=True)\n",
    "\n",
    "# Make sure drop ok\n",
    "movies_df.head(1)"
   ]
  },
  {
   "cell_type": "code",
   "execution_count": 32,
   "metadata": {},
   "outputs": [],
   "source": [
    "# Count the number of duplicates\n",
    "num_duplicates = movies_df.duplicated().sum()\n",
    "\n",
    "# Remove duplicated datasets if have\n",
    "if(num_duplicates > 0):\n",
    "    movies_df.drop_duplicates(inplace=True)"
   ]
  },
  {
   "cell_type": "code",
   "execution_count": 33,
   "metadata": {},
   "outputs": [
    {
     "data": {
      "text/plain": [
       "id                         0\n",
       "imdb_id                   10\n",
       "budget                     0\n",
       "revenue                    0\n",
       "original_title             0\n",
       "cast                      76\n",
       "runtime                    0\n",
       "genres                    23\n",
       "production_companies    1030\n",
       "release_year               0\n",
       "dtype: int64"
      ]
     },
     "execution_count": 33,
     "metadata": {},
     "output_type": "execute_result"
    }
   ],
   "source": [
    "# View the number of data NULL\n",
    "movies_df.isnull().sum()"
   ]
  },
  {
   "cell_type": "code",
   "execution_count": 34,
   "metadata": {},
   "outputs": [
    {
     "data": {
      "text/plain": [
       "False"
      ]
     },
     "execution_count": 34,
     "metadata": {},
     "output_type": "execute_result"
    }
   ],
   "source": [
    "# Drop rows have data NULL\n",
    "movies_df.dropna(inplace=True)\n",
    "\n",
    "# Check still have NULL or not\n",
    "movies_df.isnull().sum().any()"
   ]
  },
  {
   "cell_type": "code",
   "execution_count": 35,
   "metadata": {},
   "outputs": [],
   "source": [
    "# Function clean data value is  0s\n",
    "def clean_zero_value(file_name):\n",
    "    for col in file_name.columns:\n",
    "        if file_name[col].dtype == 'int64':\n",
    "            file_name.drop(file_name.loc[file_name[col]==0].index, inplace=True)\n",
    "clean_zero_value(movies_df)"
   ]
  },
  {
   "cell_type": "code",
   "execution_count": 36,
   "metadata": {},
   "outputs": [],
   "source": [
    "# Clean data Os in revenue, budget, and runtime\n",
    "clean_zero_value(movies_df)"
   ]
  },
  {
   "cell_type": "code",
   "execution_count": 37,
   "metadata": {},
   "outputs": [
    {
     "data": {
      "text/plain": [
       "id                       int64\n",
       "imdb_id                 object\n",
       "budget                   int64\n",
       "revenue                  int64\n",
       "original_title          object\n",
       "cast                    object\n",
       "runtime                  int64\n",
       "genres                  object\n",
       "production_companies    object\n",
       "release_year             int64\n",
       "dtype: object"
      ]
     },
     "execution_count": 37,
     "metadata": {},
     "output_type": "execute_result"
    }
   ],
   "source": [
    "# Check types of datasets\n",
    "movies_df.dtypes"
   ]
  },
  {
   "cell_type": "code",
   "execution_count": null,
   "metadata": {},
   "outputs": [],
   "source": []
  },
  {
   "cell_type": "code",
   "execution_count": 38,
   "metadata": {},
   "outputs": [],
   "source": [
    "# function change from object type to string type\n",
    "def change_type_from_object_to_string(file_name):\n",
    "    for col in file_name.columns:\n",
    "        if file_name.dtypes[col] == object:\n",
    "            file_name[col] = movies_df[col].astype('string')\n",
    "            print(col) "
   ]
  },
  {
   "cell_type": "code",
   "execution_count": 39,
   "metadata": {},
   "outputs": [
    {
     "name": "stdout",
     "output_type": "stream",
     "text": [
      "imdb_id\n",
      "original_title\n",
      "cast\n",
      "genres\n",
      "production_companies\n"
     ]
    },
    {
     "data": {
      "text/plain": [
       "id                       int64\n",
       "imdb_id                 string\n",
       "budget                   int64\n",
       "revenue                  int64\n",
       "original_title          string\n",
       "cast                    string\n",
       "runtime                  int64\n",
       "genres                  string\n",
       "production_companies    string\n",
       "release_year             int64\n",
       "dtype: object"
      ]
     },
     "execution_count": 39,
     "metadata": {},
     "output_type": "execute_result"
    }
   ],
   "source": [
    "# Change from object type to string type\n",
    "change_type_from_object_to_string(movies_df)\n",
    "\n",
    "# Check type of data after changed\n",
    "movies_df.dtypes"
   ]
  },
  {
   "cell_type": "code",
   "execution_count": 40,
   "metadata": {},
   "outputs": [],
   "source": [
    "# Save new datasets to the new file\n",
    "movies_df.to_csv('movies_info.csv', index=False)"
   ]
  },
  {
   "cell_type": "markdown",
   "metadata": {},
   "source": [
    "<a id='eda'></a>\n",
    "## Exploratory Data Analysis\n",
    "\n",
    "> **Tip**: Now that you've trimmed and cleaned your data, you're ready to move on to exploration. **Compute statistics** and **create visualizations** with the goal of addressing the research questions that you posed in the Introduction section. You should compute the relevant statistics throughout the analysis when an inference is made about the data. Note that at least two or more kinds of plots should be created as part of the exploration, and you must  compare and show trends in the varied visualizations. \n",
    "\n",
    "\n",
    "\n",
    "> **Tip**: - Investigate the stated question(s) from multiple angles. It is recommended that you be systematic with your approach. Look at one variable at a time, and then follow it up by looking at relationships between variables. You should explore at least three variables in relation to the primary question. This can be an exploratory relationship between three variables of interest, or looking at how two independent variables relate to a single dependent variable of interest. Lastly, you  should perform both single-variable (1d) and multiple-variable (2d) explorations.\n",
    "\n",
    "\n",
    "### Research Question 1 (I want to know what is average length of movies?)"
   ]
  },
  {
   "cell_type": "code",
   "execution_count": 41,
   "metadata": {
    "scrolled": true
   },
   "outputs": [
    {
     "data": {
      "text/plain": [
       "109.36258539148713"
      ]
     },
     "execution_count": 41,
     "metadata": {},
     "output_type": "execute_result"
    }
   ],
   "source": [
    "# Read data frame\n",
    "df = pd.read_csv('movies_info.csv')\n",
    "\n",
    "# Caculate the average time\n",
    "average_time = df.runtime.mean()\n",
    "average_time"
   ]
  },
  {
   "cell_type": "code",
   "execution_count": 53,
   "metadata": {},
   "outputs": [
    {
     "data": {
      "text/plain": [
       "Text(0.5, 1.0, 'Average runtime')"
      ]
     },
     "execution_count": 53,
     "metadata": {},
     "output_type": "execute_result"
    },
    {
     "data": {
      "image/png": "[encoded data removed]",
      "text/plain": [
       "<Figure size 640x480 with 1 Axes>"
      ]
     },
     "metadata": {},
     "output_type": "display_data"
    }
   ],
   "source": [
    "# Visualization\n",
    "plt.plot(df['runtime'])\n",
    "plt.title('Average runtime')"
   ]
  },
  {
   "cell_type": "markdown",
   "metadata": {},
   "source": [
    "# Evaluates:\n",
    " - The average time is almost 2 hours. It's been a pretty good time for movies."
   ]
  },
  {
   "cell_type": "markdown",
   "metadata": {},
   "source": [
    "### Research Question 2  (What is the average of budget for make film per year?)"
   ]
  },
  {
   "cell_type": "code",
   "execution_count": 43,
   "metadata": {},
   "outputs": [],
   "source": [
    "# get the budget per year\n",
    "budget_per_year = df.groupby('release_year', as_index=False)['budget'].mean()"
   ]
  },
  {
   "cell_type": "code",
   "execution_count": 44,
   "metadata": {},
   "outputs": [
    {
     "data": {
      "text/plain": [
       "Text(0, 0.5, 'Average of budget')"
      ]
     },
     "execution_count": 44,
     "metadata": {},
     "output_type": "execute_result"
    },
    {
     "data": {
      "image/png": "[encoded data removed]",
      "text/plain": [
       "<Figure size 640x480 with 1 Axes>"
      ]
     },
     "metadata": {},
     "output_type": "display_data"
    }
   ],
   "source": [
    "# Draw visualizations\n",
    "plt.bar(budget_per_year['release_year'], budget_per_year['budget'])\n",
    "plt.title('Average of budget per year')\n",
    "plt.xlabel('Year')\n",
    "plt.ylabel('Average of budget')"
   ]
  },
  {
   "cell_type": "markdown",
   "metadata": {},
   "source": [
    "# Evaluates:\n",
    " - The time around 2000 was the most time have highest investment.\n",
    " - The film industry is developing compared to before.\n",
    " - In recent years, the level of investment has remained at a well."
   ]
  },
  {
   "cell_type": "markdown",
   "metadata": {},
   "source": [
    "### Research Question 3  (How many movies maked in each years?)"
   ]
  },
  {
   "cell_type": "code",
   "execution_count": 45,
   "metadata": {},
   "outputs": [],
   "source": [
    "# Read the number of movies made each years\n",
    "number_of_movies = df.groupby('release_year', as_index=False)['id'].count()"
   ]
  },
  {
   "cell_type": "code",
   "execution_count": 46,
   "metadata": {},
   "outputs": [
    {
     "data": {
      "text/plain": [
       "Text(0, 0.5, 'The number of movies')"
      ]
     },
     "execution_count": 46,
     "metadata": {},
     "output_type": "execute_result"
    },
    {
     "data": {
      "image/png": "[encoded data removed]",
      "text/plain": [
       "<Figure size 640x480 with 1 Axes>"
      ]
     },
     "metadata": {},
     "output_type": "display_data"
    }
   ],
   "source": [
    "# Draw visualizations\n",
    "plt.plot(number_of_movies['release_year'], number_of_movies['id'])\n",
    "plt.title('The number of movies for each year')\n",
    "plt.xlabel('Year')\n",
    "plt.ylabel('The number of movies')"
   ]
  },
  {
   "cell_type": "markdown",
   "metadata": {},
   "source": [
    "# Evaluates:\n",
    " - The number of movies increasing alot.\n",
    " - More than 600 is a highest number of movies made in one year.\n",
    " - Through the number of films, the development of the film industry can be seen.\n",
    " - The histogram slopes to the left"
   ]
  },
  {
   "cell_type": "markdown",
   "metadata": {},
   "source": [
    "### Research Question 4  (What is the difference of revenue / budget? And how many movies have revenue - budget > budget? Does this ratio depens on the release_year or not?)"
   ]
  },
  {
   "cell_type": "code",
   "execution_count": 47,
   "metadata": {},
   "outputs": [
    {
     "data": {
      "text/html": [
       "<div>\n",
       "<style scoped>\n",
       "    .dataframe tbody tr th:only-of-type {\n",
       "        vertical-align: middle;\n",
       "    }\n",
       "\n",
       "    .dataframe tbody tr th {\n",
       "        vertical-align: top;\n",
       "    }\n",
       "\n",
       "    .dataframe thead th {\n",
       "        text-align: right;\n",
       "    }\n",
       "</style>\n",
       "<table border=\"1\" class=\"dataframe\">\n",
       "  <thead>\n",
       "    <tr style=\"text-align: right;\">\n",
       "      <th></th>\n",
       "      <th>id</th>\n",
       "      <th>imdb_id</th>\n",
       "      <th>budget</th>\n",
       "      <th>revenue</th>\n",
       "      <th>original_title</th>\n",
       "      <th>cast</th>\n",
       "      <th>runtime</th>\n",
       "      <th>genres</th>\n",
       "      <th>production_companies</th>\n",
       "      <th>release_year</th>\n",
       "      <th>ratio</th>\n",
       "    </tr>\n",
       "  </thead>\n",
       "  <tbody>\n",
       "    <tr>\n",
       "      <th>0</th>\n",
       "      <td>135397</td>\n",
       "      <td>tt0369610</td>\n",
       "      <td>150000000</td>\n",
       "      <td>1513528810</td>\n",
       "      <td>Jurassic World</td>\n",
       "      <td>Chris Pratt|Bryce Dallas Howard|Irrfan Khan|Vi...</td>\n",
       "      <td>124</td>\n",
       "      <td>Action|Adventure|Science Fiction|Thriller</td>\n",
       "      <td>Universal Studios|Amblin Entertainment|Legenda...</td>\n",
       "      <td>2015</td>\n",
       "      <td>1363528810</td>\n",
       "    </tr>\n",
       "  </tbody>\n",
       "</table>\n",
       "</div>"
      ],
      "text/plain": [
       "       id    imdb_id     budget     revenue  original_title  \\\n",
       "0  135397  tt0369610  150000000  1513528810  Jurassic World   \n",
       "\n",
       "                                                cast  runtime  \\\n",
       "0  Chris Pratt|Bryce Dallas Howard|Irrfan Khan|Vi...      124   \n",
       "\n",
       "                                      genres  \\\n",
       "0  Action|Adventure|Science Fiction|Thriller   \n",
       "\n",
       "                                production_companies  release_year       ratio  \n",
       "0  Universal Studios|Amblin Entertainment|Legenda...          2015  1363528810  "
      ]
     },
     "execution_count": 47,
     "metadata": {},
     "output_type": "execute_result"
    }
   ],
   "source": [
    "# Caculate revenue/budget\n",
    "var_ratio=df.revenue - df.budget\n",
    "\n",
    "# Create a new column for ratio\n",
    "df['ratio'] = var_ratio\n",
    "\n",
    "# Check the new column\n",
    "df.head(1)"
   ]
  },
  {
   "cell_type": "code",
   "execution_count": 48,
   "metadata": {},
   "outputs": [
    {
     "data": {
      "text/plain": [
       "3806"
      ]
     },
     "execution_count": 48,
     "metadata": {},
     "output_type": "execute_result"
    }
   ],
   "source": [
    "# Get the row of datasets\n",
    "rows = df.shape[0]\n",
    "rows"
   ]
  },
  {
   "cell_type": "code",
   "execution_count": 49,
   "metadata": {},
   "outputs": [
    {
     "data": {
      "text/plain": [
       "2009"
      ]
     },
     "execution_count": 49,
     "metadata": {},
     "output_type": "execute_result"
    }
   ],
   "source": [
    "higher_ratio = df[df['ratio'] > df['budget']]\n",
    "higher_ratio = df.query('ratio > budget').count()['id']\n",
    "higher_ratio"
   ]
  },
  {
   "cell_type": "markdown",
   "metadata": {},
   "source": [
    "# Evaluates:\n",
    " - Have a lot of movies reached the revenue double budget"
   ]
  },
  {
   "cell_type": "code",
   "execution_count": 50,
   "metadata": {},
   "outputs": [],
   "source": [
    "# Group year with ratio and calculate the average of revenue - budget for each year\n",
    "ratio_df = df.groupby('release_year', as_index=False)['ratio'].mean()"
   ]
  },
  {
   "cell_type": "code",
   "execution_count": 51,
   "metadata": {},
   "outputs": [
    {
     "data": {
      "text/plain": [
       "Text(0, 0.5, 'The average difference between budget and revenue')"
      ]
     },
     "execution_count": 51,
     "metadata": {},
     "output_type": "execute_result"
    },
    {
     "data": {
      "image/png": "[encoded data removed]",
      "text/plain": [
       "<Figure size 640x480 with 1 Axes>"
      ]
     },
     "metadata": {},
     "output_type": "display_data"
    }
   ],
   "source": [
    "# Draw visualizations\n",
    "plt.scatter(ratio_df['release_year'], ratio_df['ratio'])\n",
    "plt.title('revenue - budget')\n",
    "plt.xlabel('Year')\n",
    "plt.ylabel('The average difference between budget and revenue')"
   ]
  },
  {
   "cell_type": "markdown",
   "metadata": {},
   "source": [
    "# Evaluates:\n",
    " - The biggest difference in one year is almost equal 4e7\n",
    " - In the recent years, the disparity has become larger\n",
    " - Around 1970-1980, in general this ratio is quite low. But have a times, this more than 3.5e7.\n",
    "    "
   ]
  },
  {
   "cell_type": "markdown",
   "metadata": {},
   "source": [
    "<a id='conclusions'></a>\n",
    "## Conclusions\n",
    "•   The average time is almost 2 hours. It's been a pretty good time for movies.\n",
    "•\tAfter 1995s, the film industry was the most developed (Because the budget was very high and the difference between revenue and budget was also high).\n",
    "•\t In general, the film industry has markedly developed. It also brings more profit (based on the difference between revenue and budget) – because of the slope of the graph to the left.\n",
    "•\tThe number of movies is increasing day by day.\n",
    "•\tThe budget has slowed down in recent years but it's still at a high. \n",
    "Shortcomings/factors limiting this analysis:\n",
    "•\tThis analysis points to the number of movies per year but doesn’t care about the average budget for each movie.\n",
    "•\tThis analysis doesn’t care about the genres of movies, It’s also important part that  affects the revenue.\n",
    "\n"
   ]
  },
  {
   "cell_type": "code",
   "execution_count": 52,
   "metadata": {},
   "outputs": [
    {
     "data": {
      "text/plain": [
       "1"
      ]
     },
     "execution_count": 52,
     "metadata": {},
     "output_type": "execute_result"
    }
   ],
   "source": [
    "from subprocess import call\n",
    "call(['python', '-m', 'nbconvert', 'Investigate_a_Dataset.ipynb'])"
   ]
  },
  {
   "cell_type": "code",
   "execution_count": null,
   "metadata": {},
   "outputs": [],
   "source": []
  }
 ],
 "metadata": {
  "kernelspec": {
   "display_name": "Python 3 (ipykernel)",
   "language": "python",
   "name": "python3"
  },
  "language_info": {
   "codemirror_mode": {
    "name": "ipython",
    "version": 3
   },
   "file_extension": ".py",
   "mimetype": "text/x-python",
   "name": "python",
   "nbconvert_exporter": "python",
   "pygments_lexer": "ipython3",
   "version": "3.10.10"
  }
 },
 "nbformat": 4,
 "nbformat_minor": 2
}
