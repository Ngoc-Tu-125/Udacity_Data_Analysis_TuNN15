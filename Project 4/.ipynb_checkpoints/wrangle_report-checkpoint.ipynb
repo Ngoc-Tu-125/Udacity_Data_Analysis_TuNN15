{
 "cells": [
  {
   "cell_type": "markdown",
   "metadata": {},
   "source": [
    "## Reporting: wragle_report"
   ]
  },
  {
   "cell_type": "markdown",
   "metadata": {},
   "source": [
    "### My project is follows:\n",
    "    Step 1: Gathering data\n",
    "\n",
    "    Step 2: Assessing data\n",
    "\n",
    "    Step 3: Cleaning data\n",
    "\n",
    "    Step 4: Storing data\n",
    "\n",
    "    Step 5: Analyzing, and visualizing data"
   ]
  },
  {
   "cell_type": "code",
   "execution_count": null,
   "metadata": {},
   "outputs": [],
   "source": [
    "## Data Gather"
   ]
  }
 ],
 "metadata": {
  "kernelspec": {
   "display_name": "Python 3 (ipykernel)",
   "language": "python",
   "name": "python3"
  },
  "language_info": {
   "codemirror_mode": {
    "name": "ipython",
    "version": 3
   },
   "file_extension": ".py",
   "mimetype": "text/x-python",
   "name": "python",
   "nbconvert_exporter": "python",
   "pygments_lexer": "ipython3",
   "version": "3.10.10"
  }
 },
 "nbformat": 4,
 "nbformat_minor": 2
}
