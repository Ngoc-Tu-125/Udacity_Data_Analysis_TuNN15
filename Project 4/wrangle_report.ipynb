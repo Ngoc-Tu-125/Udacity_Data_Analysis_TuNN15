{
 "cells": [
  {
   "cell_type": "markdown",
   "metadata": {},
   "source": [
    "## Reporting: wragle_report"
   ]
  },
  {
   "cell_type": "markdown",
   "metadata": {},
   "source": [
    "### My project is follows:\n",
    "    Step 1: Gathering data\n",
    "\n",
    "    Step 2: Assessing data\n",
    "\n",
    "    Step 3: Cleaning data\n",
    "\n",
    "    Step 4: Storing data\n",
    "\n",
    "    Step 5: Analyzing, and visualizing data"
   ]
  },
  {
   "cell_type": "markdown",
   "metadata": {},
   "source": [
    "## Data Gathering"
   ]
  },
  {
   "cell_type": "markdown",
   "metadata": {},
   "source": [
    "It's the first time I working with tweet data and had a bit confusing when try to get tweet_json.txt from tweet. \n",
    "I don't know what is wrong in this. Still failed.\n",
    "So, I decided that I need to download in the resource project section. "
   ]
  },
  {
   "cell_type": "markdown",
   "metadata": {},
   "source": [
    "## Assessing Data"
   ]
  },
  {
   "cell_type": "markdown",
   "metadata": {},
   "source": [
    "In this section, I need detect and document at least eight(8) quality issues and two(2) tidiness issue. \n",
    "I use almost method which provide in the Gathering Data of this class to find out the issue of data.\n",
    "+ .describe generates descriptive stats for the numerical data types in your DataFrame\n",
    "+ .info returns a concise summary of the DataFrame\n",
    "+ .samplereturns a random sample of records from the table in this case.\n",
    "+ value_counts()\n",
    "+ duplicated()\n",
    "+ isnull()\n",
    "+ sum()\n",
    " . . .\n",
    " \n",
    " Besides that, I see directly in the csv file to see issues."
   ]
  },
  {
   "cell_type": "markdown",
   "metadata": {},
   "source": [
    "In the twitter archive, I see so many issue in this file:\n",
    "+ So much columns wrong data types\n",
    "+ Some colums have data Null\n",
    "+ So many data is not clear or don't necessery.\n",
    ". . ."
   ]
  },
  {
   "cell_type": "markdown",
   "metadata": {},
   "source": [
    "And, I need to decided that what is unneccessary with my analysis. I see that I just need origin tweet and \n",
    "I drop all data releated to retweet and replies."
   ]
  },
  {
   "cell_type": "markdown",
   "metadata": {},
   "source": [
    "More, I see Doggo, floofer, pupper, and puppo are dog classification. And decided that they need merge to the one column."
   ]
  },
  {
   "cell_type": "markdown",
   "metadata": {},
   "source": [
    "### Cleaning Data"
   ]
  },
  {
   "cell_type": "markdown",
   "metadata": {},
   "source": [
    "This section I based on the Assessing Data section. But it's not easy. \n",
    "For some cases, I need to use Regex to extract exactly what I want.\n",
    "\n",
    "Finally, I think I can clean and get anything I want for the analyzing and Visualizing Data section"
   ]
  },
  {
   "cell_type": "markdown",
   "metadata": {},
   "source": [
    "### Analyzing and Visualizing Data"
   ]
  },
  {
   "cell_type": "markdown",
   "metadata": {},
   "source": [
    "I have three question for this section:\n",
    "+ Frist, What is the most of dog stage?\n",
    "+ Second, Are the rating points affect by the rating time?\n",
    "+ Last, What is the most of rating point?\n",
    "\n",
    "I and choose pie chart for the 'What is the most' question. I think It's very suitable.\n",
    "\n",
    "With question 2, I want visualizing in the line chart. And We can see the relationship between time and rating point clear.\n"
   ]
  },
  {
   "cell_type": "markdown",
   "metadata": {},
   "source": [
    "### Insights:\n",
    "After visualizing data, I can conclusion that:\n",
    "+ Doggo is the most of dog state with 69%, followed by floofer with 10.6%. And the lowest is puppo with just 2.6%\n",
    "\n",
    "+ After 01/2017, the ratio of rating more than 1.0 increasing more than time before.\n",
    "\n",
    "+ The most of rating point is 1.2 with 22.8%, and second is 1.0 with 21.3%. We can see that more than 60% rating in the range[1.0-1.2]"
   ]
  }
 ],
 "metadata": {
  "kernelspec": {
   "display_name": "Python 3 (ipykernel)",
   "language": "python",
   "name": "python3"
  },
  "language_info": {
   "codemirror_mode": {
    "name": "ipython",
    "version": 3
   },
   "file_extension": ".py",
   "mimetype": "text/x-python",
   "name": "python",
   "nbconvert_exporter": "python",
   "pygments_lexer": "ipython3",
   "version": "3.10.10"
  }
 },
 "nbformat": 4,
 "nbformat_minor": 2
}
